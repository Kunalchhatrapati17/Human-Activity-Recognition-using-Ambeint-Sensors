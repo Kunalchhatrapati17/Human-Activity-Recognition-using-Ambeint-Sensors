{
 "cells": [
  {
   "cell_type": "markdown",
   "metadata": {},
   "source": [
    "# Analysis of ML models\n",
    "\n",
    "\n",
    "<table >\n",
    "<tr><th >Metrics / Classifiers<th>\n",
    "<th> KNN <th>\n",
    "<th> Gaussian <th>\n",
    "<th> Random Forest <th>\n",
    "<th> Decision Tree <th>\n",
    "<tr>\n",
    "<tr> <!--Accuracy -->\n",
    "    <td>Accuracy<td>\n",
    "    <td> K=5 Acc is:- 0.9608826121126962<td>\n",
    "    <td> 0.34942484936531<td>\n",
    "    <td> 0.9752077925170878<td>\n",
    "    <td> 0.9468313129629189<td>\n",
    "<tr>\n",
    "<tr> <!--Precision -->\n",
    "    <td>Precision <td>\n",
    "    <td>0.961<td>\n",
    "    <td> 0.609<td>\n",
    "    <td> 0.975<td>\n",
    "    <td> 0.947<td>\n",
    "<tr>\n",
    "<tr> <!--Recall -->\n",
    "    <td>Recall <td>\n",
    "    <td> 0.961<td>\n",
    "    <td> 0.349 <td>\n",
    "    <td> 0.975<td>\n",
    "    <td> 0.947<td>\n",
    "<tr>\n",
    "<tr> <!--F1 score -->\n",
    "    <td>F1 score <td>\n",
    "    <td> 0.9608152140392819<td>\n",
    "    <td> 0.34501524634520864<td>\n",
    "    <td> 0.9751618240271613<td>\n",
    "    <td> 0.9468503027775962<td>\n",
    "<tr>\n",
    "<tr> <!--AUC ROC curve -->\n",
    "    <td>AUC ROC curve <td>\n",
    "    <td> 0.96<td>\n",
    "    <td> 0.96<td>\n",
    "    <td> 0.96<td>\n",
    "    <td> 0.96<td>\n",
    "<tr>\n",
    "\n",
    "\n",
    "<table>\n",
    "\n",
    "\n",
    "Recall should be close to 1 :\n",
    "Precision should be >0.5 :\n",
    "F1 score should be close to 1 :\n",
    "AUC ROC curve should be close to 1 :\n",
    "\n"
   ]
  },
  {
   "cell_type": "code",
   "execution_count": null,
   "metadata": {},
   "outputs": [],
   "source": []
  }
 ],
 "metadata": {
  "kernelspec": {
   "display_name": "Python 3 (ipykernel)",
   "language": "python",
   "name": "python3"
  },
  "language_info": {
   "codemirror_mode": {
    "name": "ipython",
    "version": 3
   },
   "file_extension": ".py",
   "mimetype": "text/x-python",
   "name": "python",
   "nbconvert_exporter": "python",
   "pygments_lexer": "ipython3",
   "version": "3.9.13"
  },
  "vscode": {
   "interpreter": {
    "hash": "da46454329f49de0f5b9e4d887b081b046558530779593dd3f21aeb723eda24d"
   }
  }
 },
 "nbformat": 4,
 "nbformat_minor": 2
}
